{
 "cells": [
  {
   "cell_type": "markdown",
   "id": "533274e2",
   "metadata": {},
   "source": [
    "# WAP to accept two numbers from the user and display their sum"
   ]
  },
  {
   "cell_type": "code",
   "execution_count": null,
   "id": "c5b778e5",
   "metadata": {},
   "outputs": [],
   "source": []
  },
  {
   "cell_type": "code",
   "execution_count": 1,
   "id": "56a30647",
   "metadata": {},
   "outputs": [
    {
     "name": "stdout",
     "output_type": "stream",
     "text": [
      "Enter the the first number12\n",
      "Enter the the second number2\n",
      "14\n"
     ]
    }
   ],
   "source": [
    "a=int(input(\"Enter the the first number\"))\n",
    "b=int(input(\"Enter the the second number\"))\n",
    "c=a+b\n",
    "print(c)"
   ]
  },
  {
   "cell_type": "markdown",
   "id": "2c72b606",
   "metadata": {},
   "source": [
    "# WAP to accept radius of a Circle from the user and calculate area and circumference"
   ]
  },
  {
   "cell_type": "code",
   "execution_count": 5,
   "id": "b0696793",
   "metadata": {},
   "outputs": [
    {
     "name": "stdout",
     "output_type": "stream",
     "text": [
      "Enter radius4\n",
      "25.12\n",
      "50.24\n"
     ]
    }
   ],
   "source": [
    "r=int(input(\"Enter radius\"))\n",
    "circumference=2*3.14*r\n",
    "area=3.14*(r**2)\n",
    "print(circumference)\n",
    "print(area)"
   ]
  },
  {
   "cell_type": "markdown",
   "id": "91635799",
   "metadata": {},
   "source": [
    " # WAP to accept roll number , grade and percentage as input from the user and display it back\n"
   ]
  },
  {
   "cell_type": "code",
   "execution_count": 6,
   "id": "f534e306",
   "metadata": {},
   "outputs": [
    {
     "name": "stdout",
     "output_type": "stream",
     "text": [
      "Enter the roll number21\n",
      "Enter the gradeA\n",
      "Enter percentage86.23\n",
      "Roll number:  21\n",
      "Grade:  A\n",
      "Percentage:  86.23\n"
     ]
    }
   ],
   "source": [
    "rollno=int(input(\"Enter the roll number\"))\n",
    "grade=input(\"Enter the grade\")\n",
    "percentage=float(input(\"Enter percentage\"))\n",
    "print(\"Roll number: \",rollno)\n",
    "print(\"Grade: \",grade)\n",
    "print(\"Percentage: \",percentage)"
   ]
  },
  {
   "cell_type": "markdown",
   "id": "8102e045",
   "metadata": {},
   "source": [
    "# Write a program that asks the user to enter his/her name and age. Print out a message , displaying the user’s name along with the year in which they will turn 100 years old.\n"
   ]
  },
  {
   "cell_type": "code",
   "execution_count": 1,
   "id": "4f1d39fb",
   "metadata": {},
   "outputs": [
    {
     "name": "stdout",
     "output_type": "stream",
     "text": [
      "Enter the name:abhay\n",
      "Enter the age:21\n",
      "abhay  will turn 100 in year  2101\n"
     ]
    }
   ],
   "source": [
    "name=input(\"Enter the name:\")\n",
    "age=int(input(\"Enter the age:\"))\n",
    "y=2022+(100-age)\n",
    "print(name,\" will turn 100 in year \",y)"
   ]
  },
  {
   "cell_type": "markdown",
   "id": "31f139fe",
   "metadata": {},
   "source": [
    "# Write a program that asks the user to input 2 integers and adds them . Accept both the numbers in a single line only\n"
   ]
  },
  {
   "cell_type": "code",
   "execution_count": 4,
   "id": "4cc00ad4",
   "metadata": {},
   "outputs": [
    {
     "name": "stdout",
     "output_type": "stream",
     "text": [
      "Enter the two numbers with space2 3\n",
      "Sum of 2 and 3  is 5\n"
     ]
    }
   ],
   "source": [
    "a=input(\"Enter the two numbers with space\")\n",
    "\n",
    "b,c=a.split()\n",
    "sum=int(b)+int(c)\n",
    "print(\"Sum of {} and {}  is {}\".format(b,c,sum))"
   ]
  },
  {
   "cell_type": "markdown",
   "id": "86a91459",
   "metadata": {},
   "source": [
    "# Write a Python program which accepts the user's first and last name and print them in reverse order with a space between them."
   ]
  },
  {
   "cell_type": "code",
   "execution_count": 6,
   "id": "1b73e756",
   "metadata": {},
   "outputs": [
    {
     "name": "stdout",
     "output_type": "stream",
     "text": [
      "Enter the firstname:shruti\n",
      "Enter last name:kapur\n",
      "rupak   iturhs\n"
     ]
    }
   ],
   "source": [
    "firstname=input(\"Enter the firstname:\")\n",
    "lastname=input(\"Enter last name:\")\n",
    "\n",
    "print(lastname[::-1],\" \",firstname[::-1] )"
   ]
  },
  {
   "cell_type": "markdown",
   "id": "84392c3f",
   "metadata": {},
   "source": [
    " # WAP to accept an integer from the user and check whether it is an even or odd "
   ]
  },
  {
   "cell_type": "code",
   "execution_count": 7,
   "id": "f67ad97f",
   "metadata": {},
   "outputs": [
    {
     "name": "stdout",
     "output_type": "stream",
     "text": [
      "Enter the number:22\n",
      "22 is even\n"
     ]
    }
   ],
   "source": [
    "a=int(input(\"Enter the number:\"))\n",
    "if(a%2==0):\n",
    "    print(a,\"is even\")\n",
    "else:\n",
    "    print(a,\"is odd\")"
   ]
  },
  {
   "cell_type": "markdown",
   "id": "386c575c",
   "metadata": {},
   "source": [
    "# WAP to accept a character from the user and check whether it is a capital letter or small letter. Assume user will input only alphabets\n"
   ]
  },
  {
   "cell_type": "code",
   "execution_count": 15,
   "id": "e2c3c713",
   "metadata": {},
   "outputs": [
    {
     "name": "stdout",
     "output_type": "stream",
     "text": [
      "Enter the character z\n",
      "z is a lower letter \n"
     ]
    }
   ],
   "source": [
    "a=input(\"Enter the character \")\n",
    "if a.isupper()==True :\n",
    "    print (\"{} is a capital letter \".format(a))\n",
    "else :\n",
    "    print (\"{} is a lower letter \".format(a))"
   ]
  },
  {
   "cell_type": "markdown",
   "id": "03af41f5",
   "metadata": {},
   "source": [
    "# WAP to accept a character from the user and check whether it is a capital letter or small letter or a digit or some special symbol\n"
   ]
  },
  {
   "cell_type": "code",
   "execution_count": 18,
   "id": "e2ce4dfd",
   "metadata": {},
   "outputs": [
    {
     "name": "stdout",
     "output_type": "stream",
     "text": [
      "Enter the character 1\n",
      "1 is digit\n"
     ]
    }
   ],
   "source": [
    "c=input(\"Enter the character \")\n",
    "if ('A'<= c <='Z'):\n",
    "    print(\"{} is Capital letter\".format(c))\n",
    "elif ('a'<= c <='z') :\n",
    "    print(\"{} is small letter\".format(c))\n",
    "elif('0' < c < '9'):\n",
    "    print(\"{} is digit\".format(c))\n",
    "else :\n",
    "    print(\"{} is Symbol.\".format(c))"
   ]
  },
  {
   "cell_type": "markdown",
   "id": "4d38099e",
   "metadata": {},
   "source": [
    "# WAP to accept 3 integers from the user and without using any logical operator and cascading of relational operators , find out the greatest number amongst them\n"
   ]
  },
  {
   "cell_type": "code",
   "execution_count": 20,
   "id": "f1ca1e08",
   "metadata": {},
   "outputs": [
    {
     "name": "stdout",
     "output_type": "stream",
     "text": [
      "enter the 1st number12\n",
      "Enter the 2nd number1\n",
      "Enter the 3rd number122\n",
      "122  is greater than  12  and  1\n"
     ]
    }
   ],
   "source": [
    "a=int(input(\"enter the 1st number\"))\n",
    "b=int(input(\"Enter the 2nd number\"))\n",
    "c=int(input(\"Enter the 3rd number\"))\n",
    "if(a>b and a>c):\n",
    "    print(a,\"is greater than\",b,\"and\",c)\n",
    "\n",
    "elif(b>a and b>c):\n",
    "    print(b,\"is greater than\",a,\"and\",c)\n",
    "    \n",
    "else:\n",
    "    print(c,\" is greater than \",a,\" and \",b)"
   ]
  },
  {
   "cell_type": "markdown",
   "id": "fe88bb9b",
   "metadata": {},
   "source": [
    "# WAP to accept a year from the user and check whether it is a leap year or not.\n"
   ]
  },
  {
   "cell_type": "code",
   "execution_count": 22,
   "id": "4dd79610",
   "metadata": {},
   "outputs": [
    {
     "name": "stdout",
     "output_type": "stream",
     "text": [
      "Enter year :2022\n",
      "The year is not a leap year\n"
     ]
    }
   ],
   "source": [
    "year=int(input(\"Enter year :\"))\n",
    "if(year%4==0 and year%100!=0 or year%400==0):\n",
    "    print(\"The year is a leap year\")\n",
    "else:\n",
    "    print(\"The year is not a leap year\")"
   ]
  },
  {
   "cell_type": "markdown",
   "id": "3aa9fa16",
   "metadata": {},
   "source": [
    "# Write a program to accept a string from the user and display it vertically but don’t display the vowels in it.\n"
   ]
  },
  {
   "cell_type": "code",
   "execution_count": 24,
   "id": "cb33ad52",
   "metadata": {},
   "outputs": [
    {
     "name": "stdout",
     "output_type": "stream",
     "text": [
      "Enter a string : sharvari\n",
      "s\n",
      "h\n",
      "r\n",
      "v\n",
      "r\n"
     ]
    }
   ],
   "source": [
    "a=input(\"Enter a string : \")\n",
    "i=0\n",
    "#lst=['a','e','i','o','u']\n",
    "\n",
    "while (i<len(a)) :\n",
    "    if a[i] in 'aeiou':\n",
    "        pass\n",
    "    else :\n",
    "        print(a[i])\n",
    "    i=i+1"
   ]
  },
  {
   "cell_type": "markdown",
   "id": "1927da0b",
   "metadata": {},
   "source": [
    "# You have to develop a number guessing game. Following are the steps needed: At first , the program will generate a random integer secretly.Now it will ask the user to guess that number .If the user guessed it correctly then the program prints “Congratulations! You guessed it right” .But if the number guessed by the user is larger than the secret number then program should print “Number too large” and , if the number guessed by the user is smaller than the secret number then the program should print “Number too small” This should continue until the user guesses the number correctly or quits .If the user wants to quit in between he will have to type 0 or negative number\n"
   ]
  },
  {
   "cell_type": "code",
   "execution_count": 25,
   "id": "88496b5c",
   "metadata": {},
   "outputs": [
    {
     "name": "stdout",
     "output_type": "stream",
     "text": [
      "57\n",
      "Enter any Number  : 12\n",
      "Number too small \n",
      "Enter any Number  : 1233\n",
      "Number Too large \n",
      "Enter any Number  : 0\n",
      "Thank you for participating!\n"
     ]
    }
   ],
   "source": [
    "import random \n",
    "a=random.randint(1,100)\n",
    "print(a)\n",
    "while(True) :\n",
    "    \n",
    "    b=int(input(\"Enter any Number  : \"))\n",
    "    if(a==b) :\n",
    "        print(\"Congratulations! You guessed it right\")\n",
    "        break\n",
    "    elif (a>b and b>0) :\n",
    "        print(\"Number is too small \")\n",
    "    elif( b>a and b>0) :\n",
    "        print(\"Number is Too large \")\n",
    "    else:\n",
    "        pass\n",
    "    if(b<=0) :\n",
    "        break\n",
    "print(\"Thank you for participating!\")   "
   ]
  },
  {
   "cell_type": "code",
   "execution_count": null,
   "id": "2c9b7cfe",
   "metadata": {},
   "outputs": [],
   "source": [
    "\n",
    "\n"
   ]
  }
 ],
 "metadata": {
  "kernelspec": {
   "display_name": "Python 3 (ipykernel)",
   "language": "python",
   "name": "python3"
  },
  "language_info": {
   "codemirror_mode": {
    "name": "ipython",
    "version": 3
   },
   "file_extension": ".py",
   "mimetype": "text/x-python",
   "name": "python",
   "nbconvert_exporter": "python",
   "pygments_lexer": "ipython3",
   "version": "3.9.13"
  }
 },
 "nbformat": 4,
 "nbformat_minor": 5
}
